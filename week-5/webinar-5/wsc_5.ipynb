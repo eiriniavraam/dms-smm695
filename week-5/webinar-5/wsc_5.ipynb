{
 "cells": [
  {
   "cell_type": "markdown",
   "metadata": {},
   "source": [
    "# Set-up"
   ]
  },
  {
   "cell_type": "code",
   "execution_count": null,
   "metadata": {
    "ExecuteTime": {
     "end_time": "2020-06-17T21:21:15.062803Z",
     "start_time": "2020-06-17T21:21:13.653495Z"
    }
   },
   "outputs": [],
   "source": [
    "# libraries\n",
    "import re\n",
    "import numpy as np\n",
    "import pandas as pd\n",
    "from pymongo import MongoClient"
   ]
  },
  {
   "cell_type": "code",
   "execution_count": null,
   "metadata": {
    "ExecuteTime": {
     "end_time": "2020-06-17T21:21:15.078954Z",
     "start_time": "2020-06-17T21:21:15.068027Z"
    }
   },
   "outputs": [],
   "source": [
    "# let's connect to the localhost\n",
    "client = MongoClient()\n",
    "\n",
    "# let's create a database \n",
    "db = client.moma\n",
    "\n",
    "# collection\n",
    "artworks = db.artworks\n",
    "\n",
    "# print connection\n",
    "print(\"\"\"\n",
    "Database\n",
    "==========\n",
    "{}\n",
    "\n",
    "Collection\n",
    "==========\n",
    "{}\n",
    "\"\"\".format(db, artworks), flush=True\n",
    ")"
   ]
  },
  {
   "cell_type": "markdown",
   "metadata": {},
   "source": [
    "## Data"
   ]
  },
  {
   "cell_type": "markdown",
   "metadata": {
    "ExecuteTime": {
     "end_time": "2020-06-17T20:49:01.150345Z",
     "start_time": "2020-06-17T20:49:01.019387Z"
    }
   },
   "source": [
    "![MoMa](https://images.musement.com/cover/0001/31/moma-museum-of-modern-art-tickets-tours-jpg_header-30520.jpeg?&q=60&fit=crop)"
   ]
  },
  {
   "cell_type": "code",
   "execution_count": null,
   "metadata": {
    "ExecuteTime": {
     "end_time": "2020-06-17T21:21:32.393521Z",
     "start_time": "2020-06-17T21:21:15.084583Z"
    }
   },
   "outputs": [],
   "source": [
    "df = pd.read_csv('https://media.githubusercontent.com/media/MuseumofModernArt/collection/master/Artworks.csv')\n",
    "\n",
    "df.info()"
   ]
  },
  {
   "cell_type": "markdown",
   "metadata": {},
   "source": [
    "# Loading"
   ]
  },
  {
   "cell_type": "code",
   "execution_count": null,
   "metadata": {
    "ExecuteTime": {
     "end_time": "2020-06-17T21:23:06.086672Z",
     "start_time": "2020-06-17T21:21:32.397213Z"
    }
   },
   "outputs": [],
   "source": [
    "%%time \n",
    "# slow loading of data\n",
    "d = {}\n",
    "\n",
    "for i in df.index:\n",
    "    d = {\n",
    "        \"_id\": str(df.loc[i, \"Cataloged\"]) + str(df.loc[i, \"ObjectID\"]),\n",
    "        \"Title\": df.loc[i, \"Title\"],\n",
    "        \"Date\": df.loc[i, \"Date\"],\n",
    "        \"Artist\": {\n",
    "            \"Name\": df.loc[i, \"Artist\"],\n",
    "            \"Bio\": df.loc[0, \"ArtistBio\"],\n",
    "            \"Nationality\": df.loc[0, \"Nationality\"],\n",
    "            \"Birth\": df.loc[0, \"BeginDate\"],\n",
    "            \"Death\": df.loc[0, \"EndDate\"],\n",
    "            \"Gender\": df.loc[0, \"Gender\"]\n",
    "        },\n",
    "        \"Characteristics\":{\n",
    "            \"Medium\": df.loc[i,'Medium'], \n",
    "            \"Dimensions\": df.loc[i,'Dimensions'],\n",
    "            \"Circumference\": df.loc[i,'Circumference (cm)'], \n",
    "            \"Depth\": df.loc[i,'Depth (cm)'], \n",
    "            \"Diameter\": df.loc[i,'Diameter (cm)'], \n",
    "            \"Height\": df.loc[i,'Height (cm)'],\n",
    "            \"Length\": df.loc[i,'Length (cm)'], \n",
    "            \"Weight\": df.loc[i,'Weight (kg)'], \n",
    "            \"Width\": df.loc[i,'Width (cm)'], \n",
    "            \"Seat Height\": df.loc[i,'Seat Height (cm)'],\n",
    "            \"Duration\": df.loc[i,'Duration (sec.)']\n",
    "        },\n",
    "        \"Acquisition\": {\n",
    "            \"Date\": df.loc[i, \"DateAcquired\"],\n",
    "            \"CreditLine\": df.loc[i, \"CreditLine\"],\n",
    "            \"Number\": df.loc[i, \"AccessionNumber\"]\n",
    "        },\n",
    "        \"Classification\": df.loc[i, \"Classification\"],\n",
    "        \"Department\": df.loc[i, \"Department\"],\n",
    "        \"URL\": df.loc[i, \"URL\"], \n",
    "        \"ThumbnailURL\": df.loc[i, \"ThumbnailURL\"]\n",
    "    }\n",
    "    artworks.insert_one(d)"
   ]
  },
  {
   "cell_type": "code",
   "execution_count": null,
   "metadata": {
    "ExecuteTime": {
     "end_time": "2020-06-17T21:23:06.099227Z",
     "start_time": "2020-06-17T21:23:06.088310Z"
    }
   },
   "outputs": [],
   "source": [
    "# for further reference https://docs.mongodb.com/manual/reference/command/collStats/\n",
    "stats = db.command(\"collstats\", \"artworks\")\n",
    "s0 = stats.get('size')/10**6\n",
    "\n",
    "print(\"\"\"\n",
    "Namespace: {}\n",
    "\n",
    "Document Count: {}\n",
    "\n",
    "Size: {}\n",
    "\n",
    "\"\"\".format(stats.get('ns'), stats.get('count'), s0), flush=True)"
   ]
  },
  {
   "cell_type": "markdown",
   "metadata": {},
   "source": [
    "## Cleaning"
   ]
  },
  {
   "cell_type": "code",
   "execution_count": null,
   "metadata": {
    "ExecuteTime": {
     "end_time": "2020-06-17T21:23:06.109414Z",
     "start_time": "2020-06-17T21:23:06.102991Z"
    }
   },
   "outputs": [],
   "source": [
    "# get key names\n",
    "l = []\n",
    "for i in d.keys():\n",
    "    try:\n",
    "        for b in d.get(str(i)).keys():\n",
    "            l.append(str(i) + '.' + str(b))\n",
    "    except:\n",
    "        l.append(i)"
   ]
  },
  {
   "cell_type": "code",
   "execution_count": null,
   "metadata": {
    "ExecuteTime": {
     "end_time": "2020-06-17T21:23:29.041386Z",
     "start_time": "2020-06-17T21:23:06.119627Z"
    }
   },
   "outputs": [],
   "source": [
    "# unset NaN fields\n",
    "for i in l:\n",
    "    update = artworks.update_many({str(i):np.nan},{\"$unset\": {str(i):\"\"}})\n",
    "    print(\"\"\"\n",
    "    Key: {}\n",
    "    Matched: {}\n",
    "    Modified: {}\n",
    "    ------------\n",
    "    \"\"\".format(i, update.matched_count, update.modified_count), flush=True)"
   ]
  },
  {
   "cell_type": "code",
   "execution_count": null,
   "metadata": {
    "ExecuteTime": {
     "end_time": "2020-06-17T21:23:29.059194Z",
     "start_time": "2020-06-17T21:23:29.048212Z"
    }
   },
   "outputs": [],
   "source": [
    "# for further reference https://docs.mongodb.com/manual/reference/command/collStats/\n",
    "stats = db.command(\"collstats\", \"artworks\")\n",
    "s1 = stats.get('size')/10**6\n",
    "\n",
    "print(\"\"\"\n",
    "Namespace: {}\n",
    "\n",
    "Document Count: {}\n",
    "\n",
    "Size: {}\n",
    "\n",
    "Var. Size: {}\n",
    "\n",
    "\"\"\".format(stats.get('ns'), stats.get('count'), s1, round(s0-s1, 2)), flush=True)"
   ]
  },
  {
   "cell_type": "markdown",
   "metadata": {},
   "source": [
    "## Further Cleaning"
   ]
  },
  {
   "cell_type": "code",
   "execution_count": null,
   "metadata": {
    "ExecuteTime": {
     "end_time": "2020-06-17T21:23:32.115081Z",
     "start_time": "2020-06-17T21:23:29.064731Z"
    }
   },
   "outputs": [],
   "source": [
    "# change data type\n",
    "update = artworks.update_many({\"Date\":{\"$regex\": '^[0-9]*$'}}, [{ \"$set\": { \"Date\": { \"$toInt\": \"$Date\" } } }])\n",
    "\n",
    "print(\"\"\"\n",
    "    Key: {}\n",
    "    Matched: {}\n",
    "    Modified: {}\n",
    "    ------------\n",
    "    \"\"\".format(\"Date\", update.matched_count, update.modified_count), flush=True)"
   ]
  },
  {
   "cell_type": "code",
   "execution_count": null,
   "metadata": {
    "ExecuteTime": {
     "end_time": "2020-06-17T21:23:50.619982Z",
     "start_time": "2020-06-17T21:23:32.118780Z"
    }
   },
   "outputs": [],
   "source": [
    "# create an array field to store ranges\n",
    "for i in artworks.find({\"Date\":{\"$regex\": '^[0-9]{4}-[0-9]{4}$'}}):\n",
    "    date = i.get('Date').split('-')\n",
    "    a = int(date[0])\n",
    "    b = int(date[1])\n",
    "    id = i.get('_id')\n",
    "    update = artworks.update_one({\"_id\": str(id)},{\"$set\": {\"Date\": [a, b]}})\n",
    "    print(update.matched_count, update.modified_count)\n",
    "    \n",
    "for i in artworks.find({\"Date\":{\"$regex\": '^[0-9]{4}–[0-9]{4}$'}}):\n",
    "    date = i.get('Date').split('–')\n",
    "    a = int(date[0])\n",
    "    b = int(date[1])\n",
    "    id = i.get('_id')\n",
    "    update = artworks.update_one({\"_id\": str(id)},{\"$set\": {\"Date\": [a, b]}})\n",
    "    print(update.matched_count, update.modified_count)\n",
    "\n",
    "for i in artworks.find({\"Date\": {\"$regex\": '^[0-9]{4}-[0-9]{2}$'}}, {\"Date\": 1}):\n",
    "    date = i.get('Date').split('-')\n",
    "    a = int(date[0])\n",
    "    b = int(date[0][0] + date[0][1] + date[1])\n",
    "    id = i.get('_id')\n",
    "    update = artworks.update_one({\"_id\": str(id)},{\"$set\": {\"Date\": [a, b]}})\n",
    "    print(update.matched_count, update.modified_count)\n",
    "\n",
    "for i in artworks.find({\"Date\": {\"$regex\": '^[0-9]{4}–[0-9]{2}$'}}, {\"Date\": 1}):\n",
    "    date = i.get('Date').split('–')\n",
    "    a = int(date[0])\n",
    "    b = int(date[0][0] + date[0][1]+ date[1])\n",
    "    id = i.get('_id')\n",
    "    update = artworks.update_one({\"_id\": str(id)},{\"$set\": {\"Date\": [a, b]}})\n",
    "    print(update.matched_count, update.modified_count)\n",
    "\n",
    "# perform some further cleaning\n",
    "for i in artworks.find({\"Date\":{\"$regex\": '^c. [0-9]{4}$'}}):\n",
    "    date = i.get('Date').split(' ')\n",
    "    b = int(date[1])\n",
    "    id = i.get('_id')\n",
    "    update = artworks.update_one({\"_id\": str(id)},{\"$set\": {\"Date\": b}})\n",
    "    print(update.matched_count, update.modified_count)"
   ]
  },
  {
   "cell_type": "code",
   "execution_count": null,
   "metadata": {
    "ExecuteTime": {
     "end_time": "2020-06-17T21:23:50.775606Z",
     "start_time": "2020-06-17T21:23:50.622464Z"
    }
   },
   "outputs": [],
   "source": [
    "# remove Unknown or n.d.\n",
    "update = artworks.update_many({\"Date\": {\"$in\": [\"n.d.\", \"Unknown\", \"unknown\"]}}, {\"$unset\": {\"Date\": \"\"}})\n",
    "print(\"\"\"\n",
    "    Matched: {}\n",
    "    Modified: {}\n",
    "    \"\"\".format(update.matched_count, update.modified_count), flush=True)"
   ]
  },
  {
   "cell_type": "code",
   "execution_count": null,
   "metadata": {
    "ExecuteTime": {
     "end_time": "2020-06-17T21:23:53.881378Z",
     "start_time": "2020-06-17T21:23:50.779431Z"
    }
   },
   "outputs": [],
   "source": [
    "for i in artworks.find({\"Date\": {\"$type\": \"string\"}}, {\"Date\":1}):\n",
    "    print(i)"
   ]
  },
  {
   "cell_type": "markdown",
   "metadata": {},
   "source": [
    "# Aggregation and loading"
   ]
  },
  {
   "cell_type": "code",
   "execution_count": null,
   "metadata": {
    "ExecuteTime": {
     "end_time": "2020-06-17T21:23:53.894726Z",
     "start_time": "2020-06-17T21:23:53.888740Z"
    }
   },
   "outputs": [],
   "source": [
    "# collection\n",
    "artw = db.artw\n",
    "\n",
    "# print connection\n",
    "print(\"\"\"\n",
    "Database\n",
    "==========\n",
    "{}\n",
    "\n",
    "Collection\n",
    "==========\n",
    "{}\n",
    "\"\"\".format(db, artw), flush=True\n",
    ")"
   ]
  },
  {
   "cell_type": "code",
   "execution_count": null,
   "metadata": {
    "ExecuteTime": {
     "end_time": "2020-06-17T21:23:58.916798Z",
     "start_time": "2020-06-17T21:23:53.899352Z"
    }
   },
   "outputs": [],
   "source": [
    "# df to dict\n",
    "df.rename(columns={'Duration (sec.)': 'Duration (sec)'}, inplace=True)\n",
    "dd = df.to_dict('records')\n",
    "\n",
    "dd[0]"
   ]
  },
  {
   "cell_type": "code",
   "execution_count": null,
   "metadata": {
    "ExecuteTime": {
     "end_time": "2020-06-17T21:24:08.487640Z",
     "start_time": "2020-06-17T21:23:58.919150Z"
    }
   },
   "outputs": [],
   "source": [
    "%%time\n",
    "# insert array\n",
    "insert = artw.insert_many(dd)\n",
    "\n",
    "# define the pipeline\n",
    "pipeline = [\n",
    "    {\"$project\": \n",
    "     {\n",
    "         \"_id\": {\"$concat\": [\"$Cataloged\", {\"$toString\": \"$ObjectID\"}]},\n",
    "         \"Title\": \"$Title\",\n",
    "         \"Date\": \"$Date\",\n",
    "         \"Artist\": {\n",
    "             \"Name\": \"$Artist\", \n",
    "             'Bio': \"$ArtistBio\",\n",
    "             'Nationality': \"$Nationality\",\n",
    "             \"Birth\": \"$BeginDate\",\n",
    "             \"Death\": \"$EndDate\", \n",
    "             \"Gender\": \"$Gender\",\n",
    "         },\n",
    "        \"Characteristics\":{\n",
    "            \"Medium\": '$Medium', \n",
    "            \"Dimensions\": '$Dimensions',\n",
    "            \"Circumference\": '$Circumference (cm)', \n",
    "            \"Depth\": '$Depth (cm)', \n",
    "            \"Diameter\": '$Diameter (cm)', \n",
    "            \"Height\": '$Height (cm)',\n",
    "            \"Length\": '$Length (cm)', \n",
    "            \"Weight\": '$Weight (kg)', \n",
    "            \"Width\": '$Width (cm)', \n",
    "            \"Seat Height\": '$Seat Height (cm)',\n",
    "            \"Duration\": '$Duration (sec)'\n",
    "        },\n",
    "        \"Acquisition\": {\n",
    "            \"Date\": \"$DateAcquired\",\n",
    "            \"CreditLine\": \"$CreditLine\",\n",
    "            \"Number\": \"$AccessionNumber\"\n",
    "        },\n",
    "        \"Classification\": \"$Classification\",\n",
    "        \"Department\": \"$Department\",\n",
    "        \"URL\": \"$URL\", \n",
    "        \"ThumbnailURL\": \"$ThumbnailURL\"\n",
    "     }\n",
    "    },\n",
    "    { \"$out\" : \"artw\" }\n",
    "]\n",
    "\n",
    "# perform the aggregation\n",
    "agr = artw.aggregate(pipeline)"
   ]
  },
  {
   "cell_type": "code",
   "execution_count": null,
   "metadata": {
    "ExecuteTime": {
     "end_time": "2020-06-17T21:24:31.097100Z",
     "start_time": "2020-06-17T21:24:08.489885Z"
    }
   },
   "outputs": [],
   "source": [
    "# unset field with null values\n",
    "[artw.update_many({str(i):np.nan},{\"$unset\": {str(i):\"\"}}) for i in l]"
   ]
  },
  {
   "cell_type": "code",
   "execution_count": null,
   "metadata": {},
   "outputs": [],
   "source": []
  }
 ],
 "metadata": {
  "kernelspec": {
   "display_name": "Python 3",
   "language": "python",
   "name": "python3"
  },
  "language_info": {
   "codemirror_mode": {
    "name": "ipython",
    "version": 3
   },
   "file_extension": ".py",
   "mimetype": "text/x-python",
   "name": "python",
   "nbconvert_exporter": "python",
   "pygments_lexer": "ipython3",
   "version": "3.9.5"
  },
  "latex_envs": {
   "LaTeX_envs_menu_present": true,
   "autoclose": false,
   "autocomplete": true,
   "bibliofile": "biblio.bib",
   "cite_by": "apalike",
   "current_citInitial": 1,
   "eqLabelWithNumbers": true,
   "eqNumInitial": 1,
   "hotkeys": {
    "equation": "Ctrl-E",
    "itemize": "Ctrl-I"
   },
   "labels_anchors": false,
   "latex_user_defs": false,
   "report_style_numbering": false,
   "user_envs_cfg": false
  },
  "toc": {
   "base_numbering": 1,
   "nav_menu": {},
   "number_sections": true,
   "sideBar": true,
   "skip_h1_title": false,
   "title_cell": "Table of Contents",
   "title_sidebar": "Contents",
   "toc_cell": false,
   "toc_position": {},
   "toc_section_display": true,
   "toc_window_display": true
  },
  "varInspector": {
   "cols": {
    "lenName": 16,
    "lenType": 16,
    "lenVar": 40
   },
   "kernels_config": {
    "python": {
     "delete_cmd_postfix": "",
     "delete_cmd_prefix": "del ",
     "library": "var_list.py",
     "varRefreshCmd": "print(var_dic_list())"
    },
    "r": {
     "delete_cmd_postfix": ") ",
     "delete_cmd_prefix": "rm(",
     "library": "var_list.r",
     "varRefreshCmd": "cat(var_dic_list()) "
    }
   },
   "types_to_exclude": [
    "module",
    "function",
    "builtin_function_or_method",
    "instance",
    "_Feature"
   ],
   "window_display": false
  }
 },
 "nbformat": 4,
 "nbformat_minor": 4
}
